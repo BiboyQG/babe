{
 "cells": [
  {
   "cell_type": "code",
   "execution_count": 1,
   "id": "ebd547a8-ab28-4c7b-89f3-9d33857013c4",
   "metadata": {},
   "outputs": [],
   "source": [
    "import pandas as pd"
   ]
  },
  {
   "cell_type": "code",
   "execution_count": 2,
   "id": "111b587d-30fe-44d0-8e0a-4731be1816b9",
   "metadata": {},
   "outputs": [],
   "source": [
    "products = [\"AU2406.SHF\", \"XAUCNY.IDC\"]\n",
    "columns = (\n",
    "    [\"Time\"]\n",
    "    + [f\"{prod}_Bid\" for prod in products]\n",
    "    + [f\"{prod}_Ask\" for prod in products]\n",
    "    + [f\"{prod}_Latest\" for prod in products]\n",
    "    + [\"Bid_Difference\", \"Ask_Difference\", \"Latest_Difference\"]\n",
    ")\n",
    "df = pd.DataFrame(columns=columns)"
   ]
  },
  {
   "cell_type": "code",
   "execution_count": 3,
   "id": "5cd886fe-49ac-4dde-99e2-890591833969",
   "metadata": {},
   "outputs": [
    {
     "data": {
      "text/html": [
       "<div>\n",
       "<style scoped>\n",
       "    .dataframe tbody tr th:only-of-type {\n",
       "        vertical-align: middle;\n",
       "    }\n",
       "\n",
       "    .dataframe tbody tr th {\n",
       "        vertical-align: top;\n",
       "    }\n",
       "\n",
       "    .dataframe thead th {\n",
       "        text-align: right;\n",
       "    }\n",
       "</style>\n",
       "<table border=\"1\" class=\"dataframe\">\n",
       "  <thead>\n",
       "    <tr style=\"text-align: right;\">\n",
       "      <th></th>\n",
       "      <th>Time</th>\n",
       "      <th>AU2406.SHF_Bid</th>\n",
       "      <th>XAUCNY.IDC_Bid</th>\n",
       "      <th>AU2406.SHF_Ask</th>\n",
       "      <th>XAUCNY.IDC_Ask</th>\n",
       "      <th>AU2406.SHF_Latest</th>\n",
       "      <th>XAUCNY.IDC_Latest</th>\n",
       "      <th>Bid_Difference</th>\n",
       "      <th>Ask_Difference</th>\n",
       "      <th>Latest_Difference</th>\n",
       "    </tr>\n",
       "  </thead>\n",
       "  <tbody>\n",
       "  </tbody>\n",
       "</table>\n",
       "</div>"
      ],
      "text/plain": [
       "Empty DataFrame\n",
       "Columns: [Time, AU2406.SHF_Bid, XAUCNY.IDC_Bid, AU2406.SHF_Ask, XAUCNY.IDC_Ask, AU2406.SHF_Latest, XAUCNY.IDC_Latest, Bid_Difference, Ask_Difference, Latest_Difference]\n",
       "Index: []"
      ]
     },
     "execution_count": 3,
     "metadata": {},
     "output_type": "execute_result"
    }
   ],
   "source": [
    "df"
   ]
  },
  {
   "cell_type": "code",
   "execution_count": 1,
   "id": "6265a9eb-1c84-4f20-a531-0cfb76778265",
   "metadata": {},
   "outputs": [],
   "source": [
    "from zoneinfo import ZoneInfo\n",
    "import datetime"
   ]
  },
  {
   "cell_type": "code",
   "execution_count": 3,
   "id": "33a41481-990a-4e3e-84ab-33609481062a",
   "metadata": {},
   "outputs": [],
   "source": [
    "time = datetime.datetime.now(ZoneInfo(\"Asia/Shanghai\"))"
   ]
  },
  {
   "cell_type": "code",
   "execution_count": 8,
   "id": "5ad76d2e-eeec-41bd-b8f5-9f59bd4d2380",
   "metadata": {},
   "outputs": [
    {
     "data": {
      "text/plain": [
       "datetime.datetime(2024, 10, 21, 11, 13, 56, 165342, tzinfo=zoneinfo.ZoneInfo(key='Asia/Shanghai'))"
      ]
     },
     "execution_count": 8,
     "metadata": {},
     "output_type": "execute_result"
    }
   ],
   "source": [
    "time"
   ]
  },
  {
   "cell_type": "code",
   "execution_count": 9,
   "id": "aac91985-4bd7-4cd4-a7ec-2a41fd8f310d",
   "metadata": {},
   "outputs": [
    {
     "data": {
      "text/plain": [
       "datetime.time(11, 13, 56, 165342)"
      ]
     },
     "execution_count": 9,
     "metadata": {},
     "output_type": "execute_result"
    }
   ],
   "source": [
    "time.time()"
   ]
  },
  {
   "cell_type": "code",
   "execution_count": 7,
   "id": "d1ede28e-1629-405f-852d-66f30f64807b",
   "metadata": {},
   "outputs": [
    {
     "data": {
      "text/plain": [
       "'2024-10-21'"
      ]
     },
     "execution_count": 7,
     "metadata": {},
     "output_type": "execute_result"
    }
   ],
   "source": [
    "datetime.datetime.now(ZoneInfo(\"Asia/Shanghai\")).strftime(\"%Y-%m-%d\")"
   ]
  },
  {
   "cell_type": "code",
   "execution_count": null,
   "id": "21f13212-171c-4ddd-ae83-01f4452dfdc0",
   "metadata": {},
   "outputs": [],
   "source": []
  }
 ],
 "metadata": {
  "kernelspec": {
   "display_name": "Python 3 (ipykernel)",
   "language": "python",
   "name": "python3"
  },
  "language_info": {
   "codemirror_mode": {
    "name": "ipython",
    "version": 3
   },
   "file_extension": ".py",
   "mimetype": "text/x-python",
   "name": "python",
   "nbconvert_exporter": "python",
   "pygments_lexer": "ipython3",
   "version": "3.10.15"
  }
 },
 "nbformat": 4,
 "nbformat_minor": 5
}
